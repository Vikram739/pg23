{
 "cells": [
  {
   "cell_type": "markdown",
   "id": "1580ecb3",
   "metadata": {},
   "source": [
    "### Create a review scrapper for any ecommerce website to fetch real time comments, reviews,ratings, comment tags, customer name using Python."
   ]
  },
  {
   "cell_type": "code",
   "execution_count": 1,
   "id": "556d386e",
   "metadata": {},
   "outputs": [
    {
     "name": "stdout",
     "output_type": "stream",
     "text": [
      "Upgraded from XR to 14 pro, amazing phone with advanced features limited to just pro models, stock availability is too low. Got mine by luck!If youre upgrading from iPhone 11 /11 pro  and below you'll love the updateREAD MORE\n",
      "---\n",
      "Fantastic product even though it's just an iterative upgrade to iphone 13 pro. The deep purple looks purple when the light hits the phone a certain way and it's beautiful. Dynamic island is very practical and useful. Hopefully it will get better when 3rd party developers start making use of it.Flipkart's delivery was quick and hassle free. The order was delivered on the launch date and was packed well.READ MORE\n",
      "---\n",
      "Worth the Money✨Brilliant life batteryThe wallpaper and customisation updates are awesomeThe camera clicks a very clear picEkart made a super fast delivery👍Thanks Ekart!READ MORE\n",
      "---\n",
      "Upgraded from iPhone 11 pro to iPhone 14 pro, awesome phone camera, Display quality good very fast delivery.⭐️⭐️⭐️⭐️⭐️READ MORE\n",
      "---\n",
      "Great and real product. Absolutely trustworthy seller with the best price drop available in the market.READ MORE\n",
      "---\n",
      "Super phone. Best price when I bought. Super experience with amazing camera.READ MORE\n",
      "---\n",
      "Just WOW!! Best in all segment!!READ MORE\n",
      "---\n",
      "Camera Awesome and overall mobile look is CoolREAD MORE\n",
      "---\n",
      "Awesome 😎🍫🥰READ MORE\n",
      "---\n",
      "CAMERA IS SUPERBREAD MORE\n",
      "---\n"
     ]
    }
   ],
   "source": [
    "import requests\n",
    "from bs4 import BeautifulSoup\n",
    "\n",
    "headers = {\n",
    "    'User-Agent': 'Mozilla/5.0 (Windows NT 10.0; Win64; x64) AppleWebKit/537.36 (KHTML, like Gecko) Chrome/88.0.4324.182 Safari/537.36'\n",
    "}\n",
    "\n",
    "product_url = 'https://www.flipkart.com/apple-iphone-14-pro-deep-purple-128-gb/p/itm75f73f63239fa'\n",
    "\n",
    "def get_reviews(product_url):\n",
    "    reviews = []\n",
    "    response = requests.get(product_url, headers=headers)\n",
    "    soup = BeautifulSoup(response.content, 'html.parser')\n",
    "\n",
    "    review_containers = soup.find_all('div', {'class': '_1AtVbE'})\n",
    "\n",
    "    for container in review_containers:\n",
    "        divs = container.findAll('div', {'class': 't-ZTKy'})\n",
    "        if(divs):\n",
    "            for div in divs:\n",
    "                reviews.append(div.text)\n",
    "\n",
    "    return reviews\n",
    "\n",
    "\n",
    "reviews = get_reviews(product_url)\n",
    "\n",
    "for review in reviews:\n",
    "    print(review)\n",
    "    print('---')"
   ]
  },
  {
   "cell_type": "code",
   "execution_count": 3,
   "id": "6d8f41ff",
   "metadata": {},
   "outputs": [],
   "source": [
    "import requests\n",
    "from bs4 import BeautifulSoup\n",
    "\n",
    "def scrape_reviews(url):\n",
    "    # Send a GET request to the provided URL\n",
    "    response = requests.get(url)\n",
    "    \n",
    "    # Parse the HTML content using BeautifulSoup\n",
    "    soup = BeautifulSoup(response.content, 'html.parser')\n",
    "    \n",
    "    # Find the review containers\n",
    "    review_containers = soup.find_all('div', class_='review-container')\n",
    "    \n",
    "    # Iterate over each review container and extract the relevant information\n",
    "    reviews = []\n",
    "    for container in review_containers:\n",
    "        # Extract the review text\n",
    "        review_text = container.find('p', class_='review-text').text.strip()\n",
    "        \n",
    "        # Extract the rating\n",
    "        rating = container.find('span', class_='rating').text.strip()\n",
    "        \n",
    "        # Extract the comment tags\n",
    "        comment_tags = container.find('ul', class_='comment-tags')\n",
    "        tags = [tag.text.strip() for tag in comment_tags.find_all('li')] if comment_tags else []\n",
    "        \n",
    "        # Extract the customer name\n",
    "        customer_name = container.find('span', class_='customer-name').text.strip()\n",
    "        \n",
    "        # Create a dictionary with the extracted information\n",
    "        review = {\n",
    "            'review_text': review_text,\n",
    "            'rating': rating,\n",
    "            'comment_tags': tags,\n",
    "            'customer_name': customer_name\n",
    "        }\n",
    "        \n",
    "        # Add the review to the list of reviews\n",
    "        reviews.append(review)\n",
    "    \n",
    "    return reviews\n",
    "\n",
    "# Example usage\n",
    "ecommerce_url = 'https://www.flipkart.com/apple-iphone-14-pro-deep-purple-128-gb/p/itm75f73f63239fa'\n",
    "reviews = scrape_reviews(ecommerce_url)\n",
    "\n",
    "# Print the scraped reviews\n",
    "for review in reviews:\n",
    "    print('Review Text:', review['review_text'])\n",
    "    print('Rating:', review['rating'])\n",
    "    print('Comment Tags:', ', '.join(review['comment_tags']))\n",
    "    print('Customer Name:', review['customer_name'])\n",
    "    print('---')\n"
   ]
  },
  {
   "cell_type": "code",
   "execution_count": null,
   "id": "8842f57e",
   "metadata": {},
   "outputs": [],
   "source": []
  }
 ],
 "metadata": {
  "kernelspec": {
   "display_name": "Python 3 (ipykernel)",
   "language": "python",
   "name": "python3"
  },
  "language_info": {
   "codemirror_mode": {
    "name": "ipython",
    "version": 3
   },
   "file_extension": ".py",
   "mimetype": "text/x-python",
   "name": "python",
   "nbconvert_exporter": "python",
   "pygments_lexer": "ipython3",
   "version": "3.10.4"
  }
 },
 "nbformat": 4,
 "nbformat_minor": 5
}
